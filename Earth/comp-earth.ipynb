{
 "cells": [
  {
   "cell_type": "code",
   "id": "initial_id",
   "metadata": {
    "collapsed": true,
    "ExecuteTime": {
     "end_time": "2024-05-01T06:52:00.191243Z",
     "start_time": "2024-05-01T06:52:00.101810Z"
    }
   },
   "source": "import spiceypy",
   "outputs": [],
   "execution_count": 2
  },
  {
   "metadata": {
    "ExecuteTime": {
     "end_time": "2024-05-01T06:52:00.194726Z",
     "start_time": "2024-05-01T06:52:00.191243Z"
    }
   },
   "cell_type": "code",
   "source": [
    "import datetime\n",
    "\n",
    "date_today = datetime.date.today()\n",
    "\n",
    "date_today = date_today.strftime(\"%Y-%m-%dT00:00:00\")\n",
    "\n"
   ],
   "id": "8904c82a080d3a17",
   "outputs": [],
   "execution_count": 3
  },
  {
   "metadata": {
    "ExecuteTime": {
     "end_time": "2024-05-01T06:52:00.206791Z",
     "start_time": "2024-05-01T06:52:00.194726Z"
    }
   },
   "cell_type": "code",
   "source": "print(date_today)",
   "id": "ac580373738061a6",
   "outputs": [
    {
     "name": "stdout",
     "output_type": "stream",
     "text": [
      "2024-05-01T00:00:00\n"
     ]
    }
   ],
   "execution_count": 4
  },
  {
   "metadata": {
    "ExecuteTime": {
     "end_time": "2024-05-01T06:52:00.226565Z",
     "start_time": "2024-05-01T06:52:00.208027Z"
    }
   },
   "cell_type": "code",
   "source": [
    "spiceypy.furnsh(\"../kernels/lsk/naif0012.tls\")\n",
    "spiceypy.furnsh(\"../kernels/spk/de432s.bsp\")"
   ],
   "id": "1574102207ac11f8",
   "outputs": [],
   "execution_count": 5
  },
  {
   "metadata": {
    "ExecuteTime": {
     "end_time": "2024-05-01T06:52:00.231306Z",
     "start_time": "2024-05-01T06:52:00.226679Z"
    }
   },
   "cell_type": "code",
   "source": [
    "et_today_midnight = spiceypy.utc2et(date_today)\n",
    "print(et_today_midnight)"
   ],
   "id": "30b9819f8f0af116",
   "outputs": [
    {
     "name": "stdout",
     "output_type": "stream",
     "text": [
      "767793669.1854774\n"
     ]
    }
   ],
   "execution_count": 6
  },
  {
   "metadata": {
    "ExecuteTime": {
     "end_time": "2024-05-01T06:52:00.238692Z",
     "start_time": "2024-05-01T06:52:00.232060Z"
    }
   },
   "cell_type": "code",
   "source": [
    "earth_state_wrt_sun, earth_sun_light_time = spiceypy.spkgeo(targ=399, et=et_today_midnight,\n",
    "                                                            ref=\"ECLIPJ2000\", obs=10)\n",
    "print(earth_state_wrt_sun)"
   ],
   "id": "4a922b13345eee73",
   "outputs": [
    {
     "name": "stdout",
     "output_type": "stream",
     "text": [
      "[-1.14132747e+08 -9.84491406e+07  6.56767975e+03  1.89633151e+01\n",
      " -2.26758202e+01  7.26489283e-04]\n"
     ]
    }
   ],
   "execution_count": 7
  },
  {
   "metadata": {
    "ExecuteTime": {
     "end_time": "2024-05-01T06:52:00.246042Z",
     "start_time": "2024-05-01T06:52:00.239588Z"
    }
   },
   "cell_type": "code",
   "source": [
    "import math\n",
    "earth_sun_distance = math.sqrt(earth_state_wrt_sun[0] ** 2.0\n",
    "                               + earth_state_wrt_sun[1] ** 2.0\n",
    "                               + earth_state_wrt_sun[2] ** 2.0)\n",
    "print(earth_sun_distance)"
   ],
   "id": "7f35c4476de849f8",
   "outputs": [
    {
     "name": "stdout",
     "output_type": "stream",
     "text": [
      "150726631.10440555\n"
     ]
    }
   ],
   "execution_count": 8
  },
  {
   "metadata": {
    "ExecuteTime": {
     "end_time": "2024-05-01T06:52:00.255053Z",
     "start_time": "2024-05-01T06:52:00.246042Z"
    }
   },
   "cell_type": "code",
   "source": [
    "earth_sun_distance_au = spiceypy.convrt(earth_sun_distance, \"km\", \"au\")\n",
    "\n",
    "print(earth_sun_distance_au)"
   ],
   "id": "2be8d1c750ebac5e",
   "outputs": [
    {
     "name": "stdout",
     "output_type": "stream",
     "text": [
      "1.0075452978447235\n"
     ]
    }
   ],
   "execution_count": 9
  },
  {
   "metadata": {
    "ExecuteTime": {
     "end_time": "2024-05-01T06:52:00.271035Z",
     "start_time": "2024-05-01T06:52:00.256130Z"
    }
   },
   "cell_type": "code",
   "source": [
    "import numpy as np\n",
    "\n",
    "earth_state_wrt_sun = np.array(earth_state_wrt_sun)\n",
    "\n",
    "earth_sun_distance = np.linalg.norm(earth_state_wrt_sun[:3])\n",
    "\n",
    "earth_orb_speed_wrt_sun = np.linalg.norm(earth_state_wrt_sun[3:])\n",
    "\n",
    "print('Earth Orbit Velocity:', earth_orb_speed_wrt_sun, 'km/s')"
   ],
   "id": "a3b67a20454c074c",
   "outputs": [
    {
     "name": "stdout",
     "output_type": "stream",
     "text": [
      "Earth Orbit Velocity: 29.560110644951006 km/s\n"
     ]
    }
   ],
   "execution_count": 10
  },
  {
   "metadata": {
    "ExecuteTime": {
     "end_time": "2024-05-01T06:52:00.286374Z",
     "start_time": "2024-05-01T06:52:00.273127Z"
    }
   },
   "cell_type": "code",
   "source": [
    "spiceypy.furnsh(\"../kernels/pck/gm_de431.tpc\")\n",
    "_, GM_SUN = spiceypy.bodvcd(bodyid=10, item=\"GM\", maxn=1)\n",
    "\n",
    "v_orb_func = lambda gm, r: np.sqrt(gm/r)\n",
    "earth_orb_speed_wrt_sun_theory = v_orb_func(GM_SUN[0], earth_sun_distance)\n",
    "\n",
    "print(earth_orb_speed_wrt_sun_theory)"
   ],
   "id": "52e54f315e43dfae",
   "outputs": [
    {
     "name": "stdout",
     "output_type": "stream",
     "text": [
      "29.672956568250953\n"
     ]
    }
   ],
   "execution_count": 11
  },
  {
   "metadata": {
    "ExecuteTime": {
     "end_time": "2024-05-01T06:52:00.289630Z",
     "start_time": "2024-05-01T06:52:00.286374Z"
    }
   },
   "cell_type": "code",
   "source": [
    "earth_position_wrt_sun = earth_state_wrt_sun[:3]\n",
    "\n",
    "earth_position_wrt_sun_normed = earth_position_wrt_sun / earth_sun_distance\n",
    "\n",
    "earth_position_wrt_sun_normed_autumn = np.array([1.0, 0.0, 0.0])"
   ],
   "id": "80a1f7fe0ca7fdb5",
   "outputs": [],
   "execution_count": 12
  },
  {
   "metadata": {
    "ExecuteTime": {
     "end_time": "2024-05-01T06:52:00.297924Z",
     "start_time": "2024-05-01T06:52:00.290777Z"
    }
   },
   "cell_type": "code",
   "source": [
    "ang_dist_deg = np.degrees(np.arccos(np.dot(earth_position_wrt_sun_normed,\n",
    "                                           earth_position_wrt_sun_normed_autumn)))\n",
    "\n",
    "print(ang_dist_deg)"
   ],
   "id": "266f5eb19d7557ed",
   "outputs": [
    {
     "name": "stdout",
     "output_type": "stream",
     "text": [
      "139.219453472676\n"
     ]
    }
   ],
   "execution_count": 13
  }
 ],
 "metadata": {
  "kernelspec": {
   "display_name": "Python 3",
   "language": "python",
   "name": "python3"
  },
  "language_info": {
   "codemirror_mode": {
    "name": "ipython",
    "version": 2
   },
   "file_extension": ".py",
   "mimetype": "text/x-python",
   "name": "python",
   "nbconvert_exporter": "python",
   "pygments_lexer": "ipython2",
   "version": "2.7.6"
  }
 },
 "nbformat": 4,
 "nbformat_minor": 5
}
